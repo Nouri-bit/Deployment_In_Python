{
 "cells": [
  {
   "cell_type": "markdown",
   "metadata": {},
   "source": [
    "Step 1: Install Modelbit package (if not already installed)"
   ]
  },
  {
   "cell_type": "code",
   "execution_count": 1,
   "metadata": {},
   "outputs": [
    {
     "name": "stdout",
     "output_type": "stream",
     "text": [
      "Requirement already satisfied: modelbit in /Users/Saif/miniconda3/lib/python3.11/site-packages (0.37.2)\n",
      "Requirement already satisfied: pycryptodomex in /Users/Saif/miniconda3/lib/python3.11/site-packages (from modelbit) (3.20.0)\n",
      "Requirement already satisfied: pandas in /Users/Saif/miniconda3/lib/python3.11/site-packages (from modelbit) (2.2.1)\n",
      "Requirement already satisfied: tqdm in /Users/Saif/miniconda3/lib/python3.11/site-packages (from modelbit) (4.65.0)\n",
      "Requirement already satisfied: requests in /Users/Saif/miniconda3/lib/python3.11/site-packages (from modelbit) (2.31.0)\n",
      "Requirement already satisfied: types-requests in /Users/Saif/miniconda3/lib/python3.11/site-packages (from modelbit) (2.31.0.6)\n",
      "Requirement already satisfied: pyyaml in /Users/Saif/miniconda3/lib/python3.11/site-packages (from modelbit) (6.0.1)\n",
      "Requirement already satisfied: types-PyYAML in /Users/Saif/miniconda3/lib/python3.11/site-packages (from modelbit) (6.0.12.20240311)\n",
      "Requirement already satisfied: jinja2 in /Users/Saif/miniconda3/lib/python3.11/site-packages (from modelbit) (3.1.3)\n",
      "Requirement already satisfied: types-pkg-resources in /Users/Saif/miniconda3/lib/python3.11/site-packages (from modelbit) (0.1.3)\n",
      "Requirement already satisfied: zstandard in /Users/Saif/miniconda3/lib/python3.11/site-packages (from modelbit) (0.19.0)\n",
      "Requirement already satisfied: appdirs in /Users/Saif/miniconda3/lib/python3.11/site-packages (from modelbit) (1.4.4)\n",
      "Requirement already satisfied: texttable in /Users/Saif/miniconda3/lib/python3.11/site-packages (from modelbit) (1.7.0)\n",
      "Requirement already satisfied: build in /Users/Saif/miniconda3/lib/python3.11/site-packages (from modelbit) (0.10.0)\n",
      "Requirement already satisfied: pkginfo in /Users/Saif/miniconda3/lib/python3.11/site-packages (from modelbit) (1.10.0)\n",
      "Requirement already satisfied: boto3>=1.23.0 in /Users/Saif/miniconda3/lib/python3.11/site-packages (from modelbit) (1.34.103)\n",
      "Requirement already satisfied: urllib3<2,>=1.21.1 in /Users/Saif/miniconda3/lib/python3.11/site-packages (from modelbit) (1.26.18)\n",
      "Requirement already satisfied: importlib-metadata in /Users/Saif/miniconda3/lib/python3.11/site-packages (from modelbit) (7.1.0)\n",
      "Requirement already satisfied: botocore<1.35.0,>=1.34.103 in /Users/Saif/miniconda3/lib/python3.11/site-packages (from boto3>=1.23.0->modelbit) (1.34.103)\n",
      "Requirement already satisfied: jmespath<2.0.0,>=0.7.1 in /Users/Saif/miniconda3/lib/python3.11/site-packages (from boto3>=1.23.0->modelbit) (1.0.1)\n",
      "Requirement already satisfied: s3transfer<0.11.0,>=0.10.0 in /Users/Saif/miniconda3/lib/python3.11/site-packages (from boto3>=1.23.0->modelbit) (0.10.1)\n",
      "Requirement already satisfied: packaging>=19.0 in /Users/Saif/miniconda3/lib/python3.11/site-packages (from build->modelbit) (23.1)\n",
      "Requirement already satisfied: pyproject_hooks in /Users/Saif/miniconda3/lib/python3.11/site-packages (from build->modelbit) (1.1.0)\n",
      "Requirement already satisfied: zipp>=0.5 in /Users/Saif/miniconda3/lib/python3.11/site-packages (from importlib-metadata->modelbit) (3.17.0)\n",
      "Requirement already satisfied: MarkupSafe>=2.0 in /Users/Saif/miniconda3/lib/python3.11/site-packages (from jinja2->modelbit) (2.1.5)\n",
      "Requirement already satisfied: numpy<2,>=1.23.2 in /Users/Saif/miniconda3/lib/python3.11/site-packages (from pandas->modelbit) (1.26.4)\n",
      "Requirement already satisfied: python-dateutil>=2.8.2 in /Users/Saif/miniconda3/lib/python3.11/site-packages (from pandas->modelbit) (2.8.2)\n",
      "Requirement already satisfied: pytz>=2020.1 in /Users/Saif/miniconda3/lib/python3.11/site-packages (from pandas->modelbit) (2024.1)\n",
      "Requirement already satisfied: tzdata>=2022.7 in /Users/Saif/miniconda3/lib/python3.11/site-packages (from pandas->modelbit) (2024.1)\n",
      "Requirement already satisfied: charset-normalizer<4,>=2 in /Users/Saif/miniconda3/lib/python3.11/site-packages (from requests->modelbit) (2.0.4)\n",
      "Requirement already satisfied: idna<4,>=2.5 in /Users/Saif/miniconda3/lib/python3.11/site-packages (from requests->modelbit) (3.4)\n",
      "Requirement already satisfied: certifi>=2017.4.17 in /Users/Saif/miniconda3/lib/python3.11/site-packages (from requests->modelbit) (2023.11.17)\n",
      "Requirement already satisfied: types-urllib3 in /Users/Saif/miniconda3/lib/python3.11/site-packages (from types-requests->modelbit) (1.26.25.14)\n",
      "Requirement already satisfied: six>=1.5 in /Users/Saif/miniconda3/lib/python3.11/site-packages (from python-dateutil>=2.8.2->pandas->modelbit) (1.16.0)\n"
     ]
    }
   ],
   "source": [
    "!pip install modelbit "
   ]
  },
  {
   "cell_type": "markdown",
   "metadata": {},
   "source": [
    "Step 2: Import Modelbit and login to your Modelbit account using Google Account\n",
    "# Note: This code assumes that Modelbit provides a login method like 'login_with_google'."
   ]
  },
  {
   "cell_type": "code",
   "execution_count": 2,
   "metadata": {},
   "outputs": [
    {
     "data": {
      "text/html": [
       "\n",
       "<div style=\"margin: 0; padding: 5px; line-height: 1.75; font-size: 14px; vertical-align: baseline; list-style: none; font-family: Roboto, Arial, sans-serif; background: none;\">\n",
       "  <div style=\"margin: 0; padding: 0; line-height: 1.75; font-size: 14px; vertical-align: baseline; list-style: none; font-family: Roboto, Arial, sans-serif; background: none;\">\n",
       "    You're <span style=\"margin: 0; padding: 0; line-height: 1.75; font-size: 14px; vertical-align: baseline; list-style: none; font-family: Roboto, Arial, sans-serif; background: none; color: #15803d; font-weight: bold;\">connected</span> to Modelbit as bouthna64@gmail.com.\n",
       "    Workspace: <span style=\"margin: 0; padding: 0; line-height: 1.75; font-size: 14px; vertical-align: baseline; list-style: none; font-family: monospace; background: none; font-weight: bold; color: #845B99;\">bouthna</span>.\n",
       "    \n",
       "      Region: <span style=\"margin: 0; padding: 0; line-height: 1.75; font-size: 14px; vertical-align: baseline; list-style: none; font-family: monospace; background: none; font-weight: bold; color: #845B99;\">ap-south-1</span>\n",
       "    \n",
       "    Branch: <span style=\"margin: 0; padding: 0; line-height: 1.75; font-size: 14px; vertical-align: baseline; list-style: none; font-family: monospace; background: none; font-weight: bold; color: #845B99;\">main</span>\n",
       "\t</div>\n",
       "  \n",
       "\n",
       "\n",
       "</div>"
      ],
      "text/plain": [
       "<IPython.core.display.HTML object>"
      ]
     },
     "metadata": {},
     "output_type": "display_data"
    }
   ],
   "source": [
    "import modelbit\n",
    "mb = modelbit.login()"
   ]
  },
  {
   "cell_type": "markdown",
   "metadata": {},
   "source": [
    "Step 3: Create your function"
   ]
  },
  {
   "cell_type": "code",
   "execution_count": 3,
   "metadata": {},
   "outputs": [
    {
     "data": {
      "text/html": [
       "<div style=\"margin: 0; padding: 5px; line-height: 1.75; font-size: 14px; vertical-align: baseline; list-style: none; font-family: Roboto, Arial, sans-serif; background: none;\">\n",
       "  <div>\n",
       "    <span style=\"margin: 0; padding: 0; line-height: 1.75; font-size: 14px; vertical-align: baseline; list-style: none; font-family: Roboto, Arial, sans-serif; background: none; font-weight: bold; color: #15803d;\">Deploying </span> <span style=\"margin: 0; padding: 3px; line-height: 1.75; font-size: 13px; vertical-align: baseline; list-style: none; font-family: monospace; background: none; font-weight: 400; background-color: rgba(209, 213, 219, 0.2);\">double_number2</span>\n",
       "  </div>\n",
       "  \n",
       "\n",
       "  <div style=\"margin: 0; padding: 0; line-height: 1.75; font-size: 14px; vertical-align: baseline; list-style: none; font-family: Roboto, Arial, sans-serif; background: none;\">Uploading dependencies...</div>\n",
       "</div>"
      ],
      "text/plain": [
       "<IPython.core.display.HTML object>"
      ]
     },
     "metadata": {},
     "output_type": "display_data"
    },
    {
     "data": {
      "text/html": [
       "<div style=\"margin: 0; padding: 5px; line-height: 1.75; font-size: 14px; vertical-align: baseline; list-style: none; font-family: Roboto, Arial, sans-serif; background: none;\">\n",
       "  <div style=\"margin: 0; padding: 0; line-height: 1.75; font-size: 14px; vertical-align: baseline; list-style: none; font-family: Roboto, Arial, sans-serif; background: none; font-weight: bold; color: #15803d;\">Success!</div>\n",
       "  \n",
       "    <div style=\"margin: 0; padding: 0; line-height: 1.75; font-size: 14px; vertical-align: baseline; list-style: none; font-family: Roboto, Arial, sans-serif; background: none;\">\n",
       "      Deployment <span style=\"margin: 0; padding: 3px; line-height: 1.75; font-size: 13px; vertical-align: baseline; list-style: none; font-family: monospace; background: none; font-weight: 400; background-color: rgba(209, 213, 219, 0.2);\">double_number2</span>\n",
       "      will be ready in  a few seconds!\n",
       "    </div>\n",
       "  \n",
       "\n",
       "  <a href=\"https://ap-south-1.modelbit.com/w/bouthna/main/deployments/double_number2/apis\" target=\"_blank\" style=\"display: inline-block; margin-top: 12px;\" >\n",
       "    <div\n",
       "      style=\"display: inline-block; background-color: #845B99; border-radius: 0.375rem; color: white; cursor: pointer; font-size: 14px; font-weight: 700; padding: 8px 16px;\"\n",
       "      onmouseenter=\"this.style.background='#714488'\"\n",
       "      onmouseleave=\"this.style.background='#845B99'\"\n",
       "    >\n",
       "      View in Modelbit\n",
       "    </div>\n",
       "  </a>\n",
       "</div>"
      ],
      "text/plain": [
       "<IPython.core.display.HTML object>"
      ]
     },
     "metadata": {},
     "output_type": "display_data"
    }
   ],
   "source": [
    "def double_number2(num: float):\n",
    "   return num*2 \n",
    "\n",
    "\n",
    "mb.deploy(double_number2)"
   ]
  },
  {
   "cell_type": "markdown",
   "metadata": {},
   "source": [
    "Step 4: Call your function using JSON package\n",
    "# Example usage: Calculate double of 100"
   ]
  },
  {
   "cell_type": "markdown",
   "metadata": {},
   "source": [
    "# Example of how you might use the 'post' method with Modelbit\n",
    "# Assuming 'post' is the method provided by Modelbit for making API requests\n",
    "url = \"your_model_endpoint_url\"\n",
    "headers = {\"Authorization\": \"Bearer your_access_token\", \"Content-Type\": \"application/json\"}"
   ]
  },
  {
   "cell_type": "code",
   "execution_count": 5,
   "metadata": {},
   "outputs": [
    {
     "data": {
      "text/plain": [
       "{'data': 200}"
      ]
     },
     "execution_count": 5,
     "metadata": {},
     "output_type": "execute_result"
    }
   ],
   "source": [
    "import json, requests\n",
    "requests.post(\"https://bouthna.ap-south-1.modelbit.com/v1/double_number2/latest\",\n",
    "             headers={\"content-Type\":\"application/json\"},\n",
    "             data=json.dumps({\"data\": 100})).json()"
   ]
  }
 ],
 "metadata": {
  "kernelspec": {
   "display_name": "base",
   "language": "python",
   "name": "python3"
  },
  "language_info": {
   "codemirror_mode": {
    "name": "ipython",
    "version": 3
   },
   "file_extension": ".py",
   "mimetype": "text/x-python",
   "name": "python",
   "nbconvert_exporter": "python",
   "pygments_lexer": "ipython3",
   "version": "3.11.5"
  }
 },
 "nbformat": 4,
 "nbformat_minor": 2
}
